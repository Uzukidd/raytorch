{
 "cells": [
  {
   "cell_type": "code",
   "execution_count": null,
   "metadata": {},
   "outputs": [],
   "source": [
    "import torch\n",
    "import numpy as np\n",
    "\n",
    "from raytorch.structures import learnable_meshes\n",
    "from raytorch.ops.ray_intersect import test_print, ray_triangle_intersect_iter\n",
    "from raytorch.LiDAR import LiDAR_base\n",
    "from raytorch.visualization import visualize_LiDAR, visualize_point_clouds\n",
    "\n",
    "from pytorch3d.utils import ico_sphere\n",
    "from pytorch3d.vis.plotly_vis import plot_batch_individually, plot_scene\n",
    "from pytorch3d.transforms import Translate\n",
    "\n"
   ]
  },
  {
   "cell_type": "code",
   "execution_count": null,
   "metadata": {},
   "outputs": [],
   "source": [
    "ball = ico_sphere(level = 1)\n",
    "translate = Translate(x=0, y=10, z=0)\n",
    "\n",
    "obj = learnable_meshes(ball)"
   ]
  },
  {
   "cell_type": "code",
   "execution_count": null,
   "metadata": {},
   "outputs": [],
   "source": [
    "lidar = LiDAR_base(torch.tensor([0.0, 0.0, 0.0]),\n",
    "                    azi_range = [0, 180],\n",
    "                    polar_range = [80, 100],\n",
    "                    res = [2.5, 2.5],\n",
    "                    min_range = 1.5,\n",
    "                    max_range = 20)"
   ]
  },
  {
   "cell_type": "code",
   "execution_count": null,
   "metadata": {},
   "outputs": [],
   "source": [
    "intersection = lidar.scan_triangles(obj.get_deformed_meshes(translate))\n",
    "print(intersection)\n",
    "plot_scene({\n",
    "    \"test\": {\"ray\": visualize_LiDAR(lidar),\n",
    "             \"points\": visualize_point_clouds(intersection)},\n",
    "},\n",
    "    raybundle_ray_line_width=2.0,\n",
    "    pointcloud_marker_size=2.0\n",
    ")"
   ]
  },
  {
   "cell_type": "code",
   "execution_count": null,
   "metadata": {},
   "outputs": [],
   "source": [
    "intersection_single_ray = lidar.scan_triangles(obj.get_deformed_meshes(translate),\n",
    "                                               method=\"single_ray\")\n",
    "print(intersection_single_ray)\n",
    "\n",
    "intersection_iter = lidar.scan_triangles(obj.get_deformed_meshes(translate),\n",
    "                                               method=\"iter\")\n",
    "print(intersection_iter)"
   ]
  },
  {
   "cell_type": "code",
   "execution_count": null,
   "metadata": {},
   "outputs": [],
   "source": [
    "grad_input = torch.rand(intersection.size())\n",
    "\n",
    "parameter = obj.get_parameters()\n",
    "intersection_iter.backward(grad_input)\n",
    "grad_iter = obj.get_gradient()\n",
    "\n",
    "parameter.grad.zero_()\n",
    "intersection_single_ray.backward(grad_input)\n",
    "grad_single = obj.get_gradient()\n",
    "\n",
    "print(f\"is allclose: {torch.allclose(grad_iter, grad_single)}\")"
   ]
  },
  {
   "cell_type": "code",
   "execution_count": null,
   "metadata": {},
   "outputs": [],
   "source": []
  }
 ],
 "metadata": {
  "kernelspec": {
   "display_name": "env_cudaext",
   "language": "python",
   "name": "python3"
  },
  "language_info": {
   "codemirror_mode": {
    "name": "ipython",
    "version": 3
   },
   "file_extension": ".py",
   "mimetype": "text/x-python",
   "name": "python",
   "nbconvert_exporter": "python",
   "pygments_lexer": "ipython3",
   "version": "3.10.11"
  }
 },
 "nbformat": 4,
 "nbformat_minor": 2
}
