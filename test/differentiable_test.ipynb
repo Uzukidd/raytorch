{
 "cells": [
  {
   "cell_type": "code",
   "execution_count": null,
   "metadata": {},
   "outputs": [],
   "source": [
    "import torch\n",
    "import numpy as np\n",
    "\n",
    "from raytorch.structures import learnable_meshes\n",
    "from raytorch.ops.ray_intersect import ray_triangle_intersect_iter\n",
    "from raytorch.LiDAR import LiDAR_base\n",
    "from raytorch.visualization import visualize_LiDAR, visualize_point_clouds\n",
    "\n",
    "from pytorch3d.utils import ico_sphere\n",
    "from pytorch3d.vis.plotly_vis import plot_batch_individually, plot_scene\n",
    "from pytorch3d.transforms import Translate"
   ]
  },
  {
   "cell_type": "code",
   "execution_count": null,
   "metadata": {},
   "outputs": [],
   "source": [
    "ball = ico_sphere(level = 1)\n",
    "translate = Translate(x=0, y=10, z=0)\n",
    "inverse_translate = translate.inverse()\n",
    "obj = learnable_meshes(ball)"
   ]
  },
  {
   "cell_type": "code",
   "execution_count": null,
   "metadata": {},
   "outputs": [],
   "source": [
    "lidar = LiDAR_base(torch.tensor([0.0, 0.0, 0.0]),\n",
    "                    azi_range = [0, 180])"
   ]
  },
  {
   "cell_type": "code",
   "execution_count": null,
   "metadata": {},
   "outputs": [],
   "source": [
    "intersection = lidar.scan_triangles(obj.get_deformed_meshes(translate))\n",
    "print(intersection)\n",
    "plot_scene({\n",
    "    \"test\": {\"ray\": visualize_LiDAR(lidar),\n",
    "             \"points\": visualize_point_clouds(intersection)},\n",
    "},\n",
    "    raybundle_ray_line_width=2.0,\n",
    "    pointcloud_marker_size=2.0\n",
    ")"
   ]
  },
  {
   "cell_type": "code",
   "execution_count": null,
   "metadata": {},
   "outputs": [],
   "source": [
    "intersection = lidar.scan_triangles(obj.get_deformed_meshes(translate),\n",
    "                                               method=\"single_ray\")\n",
    "print(intersection) # [N, 3]\n",
    "print(inverse_translate.transform_points(intersection))"
   ]
  },
  {
   "cell_type": "code",
   "execution_count": null,
   "metadata": {},
   "outputs": [],
   "source": [
    "eta = 0.1\n",
    "iters = 10\n",
    "\n",
    "for i in range(iters):\n",
    "    intersection = lidar.scan_triangles(obj.get_deformed_meshes(translate))\n",
    "    l2_loss = inverse_translate.transform_points(\n",
    "        intersection) - torch.zeros_like(intersection)\n",
    "    l2_loss = torch.norm(l2_loss, dim=-1).sum()\n",
    "\n",
    "    parameter = obj.get_parameters()\n",
    "    if parameter.grad is not None:\n",
    "        parameter.grad.zero_()\n",
    "    l2_loss.backward()\n",
    "\n",
    "    grad = obj.get_gradient()\n",
    "    obj.update_parameters(parameter - eta * grad)\n",
    "    print(f\"l2 loss:{l2_loss}\")\n",
    "    \n",
    "plot_scene({\n",
    "    \"original\": {\"mesh\": obj.get_meshes()},\n",
    "    \"deformed\": {\"mesh\": obj.get_deformed_meshes()},\n",
    "}, ncols=2)"
   ]
  }
 ],
 "metadata": {
  "kernelspec": {
   "display_name": "env_cudaext",
   "language": "python",
   "name": "python3"
  },
  "language_info": {
   "codemirror_mode": {
    "name": "ipython",
    "version": 3
   },
   "file_extension": ".py",
   "mimetype": "text/x-python",
   "name": "python",
   "nbconvert_exporter": "python",
   "pygments_lexer": "ipython3",
   "version": "3.10.11"
  }
 },
 "nbformat": 4,
 "nbformat_minor": 2
}
