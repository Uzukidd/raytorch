{
 "cells": [
  {
   "cell_type": "code",
   "execution_count": null,
   "metadata": {},
   "outputs": [],
   "source": [
    "import torch\n",
    "import numpy as np\n",
    "\n",
    "from raytorch.ops.ray_intersect import ray_triangle_intersect_iter\n",
    "from raytorch.LiDAR import LiDAR_base\n",
    "from raytorch.visualization import visualize_LiDAR, visualize_point_clouds\n",
    "\n",
    "from pytorch3d.utils import ico_sphere\n",
    "from pytorch3d.vis.plotly_vis import plot_batch_individually, plot_scene\n",
    "from pytorch3d.transforms import Translate\n",
    "\n"
   ]
  },
  {
   "cell_type": "code",
   "execution_count": null,
   "metadata": {},
   "outputs": [],
   "source": [
    "obj = ico_sphere(level = 2)\n",
    "translate = Translate(x=0, y=10, z=0)\n",
    "new_verts = translate.transform_points(obj.verts_padded())\n",
    "obj = obj.update_padded(new_verts)\n",
    "\n",
    "vertices = obj.verts_packed()\n",
    "faces = obj.faces_packed()\n",
    "\n",
    "print(f\"vertex: {vertices.size()}\")\n",
    "print(f\"faces: {faces.size()}\")\n",
    "\n",
    "vert_aligned = vertices[faces]\n",
    "\n",
    "print(f\"vert_aligned: {vert_aligned.size()}\")"
   ]
  },
  {
   "cell_type": "code",
   "execution_count": null,
   "metadata": {},
   "outputs": [],
   "source": [
    "lidar = LiDAR_base(torch.tensor([0.0, 0.0, 0.0]))"
   ]
  },
  {
   "cell_type": "code",
   "execution_count": null,
   "metadata": {},
   "outputs": [],
   "source": [
    "ray_bundle = visualize_LiDAR(lidar)\n",
    "\n",
    "plot_scene({\n",
    "    \"test\": {\"ray\": ray_bundle,\n",
    "             \"object\": obj},\n",
    "},\n",
    "    raybundle_ray_line_width=2.0,\n",
    ")"
   ]
  },
  {
   "cell_type": "code",
   "execution_count": null,
   "metadata": {},
   "outputs": [],
   "source": [
    "intersection = lidar.scan_triangles(obj)\n",
    "print(intersection)\n",
    "plot_scene({\n",
    "    \"test\": {\"ray\": visualize_LiDAR(lidar),\n",
    "             \"points\": visualize_point_clouds(intersection)},\n",
    "},\n",
    "    raybundle_ray_line_width=2.0,\n",
    "    pointcloud_marker_size=2.0\n",
    ")"
   ]
  }
 ],
 "metadata": {
  "kernelspec": {
   "display_name": "env_cudaext",
   "language": "python",
   "name": "python3"
  },
  "language_info": {
   "codemirror_mode": {
    "name": "ipython",
    "version": 3
   },
   "file_extension": ".py",
   "mimetype": "text/x-python",
   "name": "python",
   "nbconvert_exporter": "python",
   "pygments_lexer": "ipython3",
   "version": "3.10.11"
  }
 },
 "nbformat": 4,
 "nbformat_minor": 2
}
