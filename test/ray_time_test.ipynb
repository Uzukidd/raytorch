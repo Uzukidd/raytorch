{
 "cells": [
  {
   "cell_type": "code",
   "execution_count": null,
   "metadata": {},
   "outputs": [],
   "source": [
    "import torch\n",
    "import numpy as np\n",
    "import time\n",
    "\n",
    "from raytorch.structures import learnable_meshes\n",
    "from raytorch.ops.ray_intersect import ray_triangle_intersect_iter\n",
    "from raytorch.LiDAR import LiDAR_base\n",
    "from raytorch.visualization import visualize_LiDAR, visualize_point_clouds\n",
    "\n",
    "from pytorch3d.utils import ico_sphere\n",
    "from pytorch3d.vis.plotly_vis import plot_batch_individually, plot_scene\n",
    "from pytorch3d.transforms import Translate"
   ]
  },
  {
   "cell_type": "markdown",
   "metadata": {},
   "source": [
    "Create a learnable meshes"
   ]
  },
  {
   "cell_type": "code",
   "execution_count": null,
   "metadata": {},
   "outputs": [],
   "source": [
    "ball = ico_sphere(level = 2)\n",
    "translate = Translate(x=0, y=10, z=0)\n",
    "\n",
    "obj = learnable_meshes(ball)"
   ]
  },
  {
   "cell_type": "markdown",
   "metadata": {},
   "source": [
    "Create a lidar"
   ]
  },
  {
   "cell_type": "code",
   "execution_count": null,
   "metadata": {},
   "outputs": [],
   "source": [
    "lidar = LiDAR_base(torch.tensor([0.0, 0.0, 0.0]),\n",
    "                    azi_range = [0, 180])"
   ]
  },
  {
   "cell_type": "markdown",
   "metadata": {},
   "source": [
    "Check different scaning methods"
   ]
  },
  {
   "cell_type": "code",
   "execution_count": null,
   "metadata": {},
   "outputs": [],
   "source": [
    "res_intersection = []\n",
    "\n",
    "for method in [\"single_ray\", \"batch_ray\", \"iter\"]:\n",
    "    for aabb_test in [True, False]:  \n",
    "        start_time = time.time()\n",
    "        intersection = lidar.scan_triangles(obj.get_deformed_meshes(translate),\n",
    "                                            method=method,\n",
    "                                            aabb_test=aabb_test)\n",
    "        end_time = time.time()\n",
    "        res_intersection.append(intersection)\n",
    "        print(f\"[method = {method}\\t, aabb_test = {aabb_test}\\t] time: {end_time - start_time}\\t point size: {intersection.size()}\")\n",
    "\n",
    "error_flag = False\n",
    "for i in range(res_intersection.__len__()):\n",
    "    for j in range(res_intersection.__len__()):\n",
    "        if i != j:\n",
    "            if not torch.allclose(res_intersection[i],\n",
    "                              res_intersection[j]):\n",
    "                error_flag = True\n",
    "                print(f\"i = {i}\\t, j = {j}\\t is not equivalent.\")\n",
    "                \n",
    "assert not error_flag, \"ray intersection test failed.\""
   ]
  },
  {
   "cell_type": "code",
   "execution_count": null,
   "metadata": {},
   "outputs": [],
   "source": [
    "grad_input = torch.rand_like(res_intersection[0])\n",
    "grad_output = []\n",
    "\n",
    "for i in range(res_intersection.__len__()):\n",
    "    if obj.get_gradient() is not None:\n",
    "        obj.get_gradient().zero_()\n",
    "    \n",
    "    res_intersection[i].backward(grad_input)\n",
    "    grad_output.append(obj.get_gradient())\n",
    "\n",
    "error_flag = False\n",
    "for i in range(res_intersection.__len__()):\n",
    "    for j in range(res_intersection.__len__()):\n",
    "        if i != j:\n",
    "            if not torch.allclose(grad_output[i],\n",
    "                                  grad_output[j]):\n",
    "                error_flag = True\n",
    "                print(f\"i = {i}\\t, j = {j}\\t gradient is not equivalent.\")\n",
    "assert not error_flag, \"ray gradient test failed.\""
   ]
  }
 ],
 "metadata": {
  "kernelspec": {
   "display_name": "env_cudaext",
   "language": "python",
   "name": "python3"
  },
  "language_info": {
   "codemirror_mode": {
    "name": "ipython",
    "version": 3
   },
   "file_extension": ".py",
   "mimetype": "text/x-python",
   "name": "python",
   "nbconvert_exporter": "python",
   "pygments_lexer": "ipython3",
   "version": "3.10.11"
  }
 },
 "nbformat": 4,
 "nbformat_minor": 2
}
