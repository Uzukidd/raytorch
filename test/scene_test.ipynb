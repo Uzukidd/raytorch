{
 "cells": [
  {
   "cell_type": "code",
   "execution_count": null,
   "metadata": {},
   "outputs": [],
   "source": [
    "import torch\n",
    "import numpy as np\n",
    "\n",
    "from raytorch.structures import learnable_meshes\n",
    "from raytorch.ops.ray_intersect import ray_triangle_intersect_iter\n",
    "from raytorch.LiDAR import LiDAR_base\n",
    "from raytorch.visualization import visualize_LiDAR, visualize_point_clouds\n",
    "\n",
    "from pytorch3d.structures import join_meshes_as_batch, join_meshes_as_scene, Meshes\n",
    "from pytorch3d.utils import ico_sphere\n",
    "from pytorch3d.vis.plotly_vis import plot_batch_individually, plot_scene\n",
    "from pytorch3d.transforms import Translate"
   ]
  },
  {
   "cell_type": "code",
   "execution_count": null,
   "metadata": {},
   "outputs": [],
   "source": [
    "ball = ico_sphere(level=1)\n",
    "translate_1 = Translate(x=0, y=10, z=0)\n",
    "translate_2 = Translate(x=1.5, y=15, z=0)\n",
    "\n",
    "obj = learnable_meshes(ball)"
   ]
  },
  {
   "cell_type": "code",
   "execution_count": null,
   "metadata": {},
   "outputs": [],
   "source": [
    "lidar = LiDAR_base(torch.tensor([0.0, 0.0, 0.0]),\n",
    "                    azi_range = [0, 180])"
   ]
  },
  {
   "cell_type": "code",
   "execution_count": null,
   "metadata": {},
   "outputs": [],
   "source": [
    "meshes_scene = join_meshes_as_scene([obj.get_deformed_meshes(translate_1),\n",
    "                                     obj.get_deformed_meshes(translate_2),])\n",
    "\n",
    "meshes_batch = join_meshes_as_batch([obj.get_deformed_meshes(translate_1),\n",
    "                                     obj.get_deformed_meshes(translate_2),])"
   ]
  },
  {
   "cell_type": "code",
   "execution_count": null,
   "metadata": {},
   "outputs": [],
   "source": [
    "print(obj.get_deformed_meshes(translate_1).get_bounding_boxes().size())\n",
    "print(meshes_scene.get_bounding_boxes().size())\n",
    "print(meshes_batch.get_bounding_boxes().size())\n",
    "\n",
    "print(meshes_scene.verts_list().__len__())\n",
    "print(meshes_batch.verts_list().__len__())\n",
    "\n",
    "print(meshes_scene.verts_packed().size())\n",
    "print(meshes_batch.verts_packed().size())\n",
    "\n",
    "print(meshes_scene.verts_padded().size())\n",
    "print(meshes_batch.verts_padded().size())"
   ]
  },
  {
   "cell_type": "code",
   "execution_count": null,
   "metadata": {},
   "outputs": [],
   "source": [
    "plot_scene({\n",
    "    \"test\": {\"ray\": visualize_LiDAR(lidar),\n",
    "             \"object\": meshes_batch\n",
    "             },\n",
    "},\n",
    "    raybundle_ray_line_width=2.0,\n",
    ")"
   ]
  },
  {
   "cell_type": "code",
   "execution_count": null,
   "metadata": {},
   "outputs": [],
   "source": [
    "intersection = lidar.scan_triangles(meshes_batch)\n",
    "print(intersection)\n",
    "plot_scene({\n",
    "    \"test\": {\"ray\": visualize_LiDAR(lidar),\n",
    "             \"points\": visualize_point_clouds(intersection)},\n",
    "},\n",
    "    raybundle_ray_line_width=2.0,\n",
    "    pointcloud_marker_size=2.0\n",
    ")"
   ]
  }
 ],
 "metadata": {
  "kernelspec": {
   "display_name": "env_cudaext",
   "language": "python",
   "name": "python3"
  },
  "language_info": {
   "codemirror_mode": {
    "name": "ipython",
    "version": 3
   },
   "file_extension": ".py",
   "mimetype": "text/x-python",
   "name": "python",
   "nbconvert_exporter": "python",
   "pygments_lexer": "ipython3",
   "version": "3.10.11"
  }
 },
 "nbformat": 4,
 "nbformat_minor": 2
}
