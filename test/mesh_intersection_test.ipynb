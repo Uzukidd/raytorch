{
 "cells": [
  {
   "cell_type": "code",
   "execution_count": null,
   "metadata": {},
   "outputs": [],
   "source": [
    "import torch\n",
    "import numpy as np\n",
    "\n",
    "from raytorch.ops.ray_intersect import ray_triangle_intersect_iter, ray_triangle_intersect_single_ray\n",
    "\n",
    "from pytorch3d.structures import Pointclouds\n",
    "from pytorch3d.utils import ico_sphere\n",
    "from pytorch3d.renderer import RayBundle\n",
    "from pytorch3d.vis.plotly_vis import plot_batch_individually, plot_scene\n",
    "from pytorch3d.transforms import Scale, Translate\n"
   ]
  },
  {
   "cell_type": "code",
   "execution_count": null,
   "metadata": {},
   "outputs": [],
   "source": [
    "obj = ico_sphere(level = 1)\n",
    "translate = Translate(x=10, y=0, z=0)\n",
    "new_verts = translate.transform_points(obj.verts_padded())\n",
    "obj = obj.update_padded(new_verts)\n",
    "\n",
    "vertices = obj.verts_packed()\n",
    "faces = obj.faces_packed()\n",
    "\n",
    "print(f\"vertex: {vertices.size()}\")\n",
    "print(f\"faces: {faces.size()}\")\n",
    "\n",
    "vert_aligned = vertices[faces]\n",
    "\n",
    "print(f\"vert_aligned: {vert_aligned.size()}\")"
   ]
  },
  {
   "cell_type": "code",
   "execution_count": null,
   "metadata": {},
   "outputs": [],
   "source": [
    "azimuthal_range = np.arange(-30, 30, 2.5)\n",
    "polar_range = np.arange(80, 100, 5.0)\n",
    "\n",
    "light_directions = []\n",
    "for azimuthal_angle in azimuthal_range:\n",
    "    for polar_angle in polar_range:\n",
    "        azimuthal_angle_rad = np.radians(azimuthal_angle)\n",
    "        polar_angle_rad = np.radians(polar_angle)\n",
    "\n",
    "        x = np.sin(polar_angle_rad) * np.cos(azimuthal_angle_rad)\n",
    "        y = np.sin(polar_angle_rad) * np.sin(azimuthal_angle_rad)\n",
    "        z = np.cos(polar_angle_rad)\n",
    "\n",
    "        light_directions.append([x, y, z])\n",
    "\n",
    "light_directions = np.array(light_directions, dtype=np.float32)\n",
    "origins = np.zeros_like(light_directions, dtype=np.float32)\n",
    "lengths = np.ones([light_directions.shape[0], 2],\n",
    "                  dtype=np.float32) * np.array([0.0, 20.0])\n",
    "xys = np.zeros([light_directions.shape[0], 2], dtype=np.float32)\n",
    "\n",
    "origins = torch.from_numpy(origins)\n",
    "light_directions = torch.from_numpy(light_directions)\n",
    "lengths = torch.from_numpy(lengths)\n",
    "xys = torch.from_numpy(xys)\n",
    "\n",
    "print(f\"light_directions: {light_directions.shape}\")\n",
    "\n",
    "ray_bundle = RayBundle(origins=origins,\n",
    "                       lengths=lengths,\n",
    "                       xys=xys,\n",
    "                       directions=light_directions)\n",
    "\n",
    "plot_scene({\n",
    "    \"test\": {\"ray\": ray_bundle,\n",
    "             \"object\": obj},\n",
    "},\n",
    "    raybundle_ray_line_width=2.0,\n",
    "    )"
   ]
  },
  {
   "cell_type": "code",
   "execution_count": null,
   "metadata": {},
   "outputs": [],
   "source": [
    "intersection = ray_triangle_intersect_iter(origins,\n",
    "                            light_directions, \n",
    "                            vert_aligned)\n",
    "print(intersection)\n",
    "\n",
    "intersection = ray_triangle_intersect_single_ray(origins,\n",
    "                                           light_directions,\n",
    "                                           vert_aligned)\n",
    "print(intersection)\n",
    "point_cloud = Pointclouds(points=[intersection])"
   ]
  },
  {
   "cell_type": "code",
   "execution_count": null,
   "metadata": {},
   "outputs": [],
   "source": [
    "plot_scene({\n",
    "    \"test\": {\"ray\": ray_bundle,\n",
    "             \"point_cloud\": point_cloud},\n",
    "},\n",
    "    raybundle_ray_line_width=2.0,\n",
    "    pointcloud_marker_size=2.0\n",
    ")"
   ]
  }
 ],
 "metadata": {
  "kernelspec": {
   "display_name": "env_cudaext",
   "language": "python",
   "name": "python3"
  },
  "language_info": {
   "codemirror_mode": {
    "name": "ipython",
    "version": 3
   },
   "file_extension": ".py",
   "mimetype": "text/x-python",
   "name": "python",
   "nbconvert_exporter": "python",
   "pygments_lexer": "ipython3",
   "version": "3.10.11"
  }
 },
 "nbformat": 4,
 "nbformat_minor": 2
}
